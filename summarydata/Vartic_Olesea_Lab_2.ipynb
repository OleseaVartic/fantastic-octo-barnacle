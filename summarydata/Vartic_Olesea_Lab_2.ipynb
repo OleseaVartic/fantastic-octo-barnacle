{
  "nbformat": 4,
  "nbformat_minor": 0,
  "metadata": {
    "colab": {
      "provenance": []
    },
    "kernelspec": {
      "name": "python3",
      "display_name": "Python 3"
    },
    "language_info": {
      "name": "python"
    }
  },
  "cells": [
    {
      "cell_type": "code",
      "execution_count": 3,
      "metadata": {
        "colab": {
          "base_uri": "https://localhost:8080/"
        },
        "id": "_2aofjugd_-4",
        "outputId": "3b8708b3-3f41-43c7-8659-a6f01a97f3a0"
      },
      "outputs": [
        {
          "output_type": "stream",
          "name": "stdout",
          "text": [
            "Hello World!\n"
          ]
        }
      ],
      "source": [
        "%%bash\n",
        "echo \"Hello World!\""
      ]
    },
    {
      "cell_type": "code",
      "source": [
        "%%bash\n",
        "echo \"wordOne\" \"wordTwo\" \"wordThree\""
      ],
      "metadata": {
        "colab": {
          "base_uri": "https://localhost:8080/"
        },
        "id": "Kvr3GTE6eweQ",
        "outputId": "c5ea1ad2-d356-4ebd-e20b-6a1ee6d6fb57"
      },
      "execution_count": 4,
      "outputs": [
        {
          "output_type": "stream",
          "name": "stdout",
          "text": [
            "wordOne wordTwo wordThree\n"
          ]
        }
      ]
    },
    {
      "cell_type": "code",
      "source": [
        "%%bash\n",
        "wget -O example.txt 'https://drive.google.com/uc?export=download&id=1JqblHOsp5LWQ9zBki6Ra0AspQQVOMO9W'"
      ],
      "metadata": {
        "colab": {
          "base_uri": "https://localhost:8080/"
        },
        "id": "kmIfSuhse0ZJ",
        "outputId": "4ca085ee-7429-408a-de14-64d1cb9ad1c1"
      },
      "execution_count": 5,
      "outputs": [
        {
          "output_type": "stream",
          "name": "stderr",
          "text": [
            "--2024-06-26 08:24:41--  https://drive.google.com/uc?export=download&id=1JqblHOsp5LWQ9zBki6Ra0AspQQVOMO9W\n",
            "Resolving drive.google.com (drive.google.com)... 172.217.204.113, 172.217.204.102, 172.217.204.138, ...\n",
            "Connecting to drive.google.com (drive.google.com)|172.217.204.113|:443... connected.\n",
            "HTTP request sent, awaiting response... 303 See Other\n",
            "Location: https://drive.usercontent.google.com/download?id=1JqblHOsp5LWQ9zBki6Ra0AspQQVOMO9W&export=download [following]\n",
            "--2024-06-26 08:24:41--  https://drive.usercontent.google.com/download?id=1JqblHOsp5LWQ9zBki6Ra0AspQQVOMO9W&export=download\n",
            "Resolving drive.usercontent.google.com (drive.usercontent.google.com)... 173.194.210.132, 2607:f8b0:400c:c0f::84\n",
            "Connecting to drive.usercontent.google.com (drive.usercontent.google.com)|173.194.210.132|:443... connected.\n",
            "HTTP request sent, awaiting response... 200 OK\n",
            "Length: 146 [application/octet-stream]\n",
            "Saving to: ‘example.txt’\n",
            "\n",
            "     0K                                                       100% 7.58M=0s\n",
            "\n",
            "2024-06-26 08:24:42 (7.58 MB/s) - ‘example.txt’ saved [146/146]\n",
            "\n"
          ]
        }
      ]
    },
    {
      "cell_type": "code",
      "source": [
        "%%bash\n",
        "wget -nv -O example.txt 'https://drive.google.com/uc?export=download&id=1JqblHOsp5LWQ9zBki6Ra0AspQQVOMO9W'"
      ],
      "metadata": {
        "colab": {
          "base_uri": "https://localhost:8080/"
        },
        "id": "Ygf3BZg1e9uK",
        "outputId": "62e40f4a-8482-4ca2-b741-5eef27842adc"
      },
      "execution_count": 6,
      "outputs": [
        {
          "output_type": "stream",
          "name": "stderr",
          "text": [
            "2024-06-26 08:24:46 URL:https://drive.usercontent.google.com/download?id=1JqblHOsp5LWQ9zBki6Ra0AspQQVOMO9W&export=download [146/146] -> \"example.txt\" [1]\n"
          ]
        }
      ]
    },
    {
      "cell_type": "code",
      "source": [
        "%%bash\n",
        "wget -O example.txt 'https://drive.google.com/uc?export=download&id=1JqblHOsp5LWQ9zBki6Ra0AspQQVOMO9W' &>/dev/null"
      ],
      "metadata": {
        "id": "l54vc3sffM9o"
      },
      "execution_count": 7,
      "outputs": []
    },
    {
      "cell_type": "code",
      "source": [
        "%%bash\n",
        "cat example.txt"
      ],
      "metadata": {
        "colab": {
          "base_uri": "https://localhost:8080/"
        },
        "id": "XSO9lhmppC0l",
        "outputId": "bd864163-8274-413d-f6c4-ce2e496c5a0c"
      },
      "execution_count": 8,
      "outputs": [
        {
          "output_type": "stream",
          "name": "stdout",
          "text": [
            "This is an example text file.\n",
            "It is used to teach Unix commands.\n",
            "For example, the wc, head, and grep commands. \n",
            "This file has a total of 4 lines.\n"
          ]
        }
      ]
    },
    {
      "cell_type": "code",
      "source": [
        "%%bash\n",
        "wget -nv -O exampleTwo.txt 'https://drive.google.com/uc?export=download&id=16jP2qPOn_8ngTjyeRFEWmsv4BePKiQ7h' &>/dev/null\n",
        "cat exampleTwo.txt"
      ],
      "metadata": {
        "colab": {
          "base_uri": "https://localhost:8080/"
        },
        "id": "xHwA8FAepkTs",
        "outputId": "bef87a3a-50ae-40cd-b111-733b406732e5"
      },
      "execution_count": 9,
      "outputs": [
        {
          "output_type": "stream",
          "name": "stdout",
          "text": [
            "this is the first line of a second example file\n",
            "this file can be concatenated to the first example file\n",
            "after concatenation, this line will be the last line\n"
          ]
        }
      ]
    },
    {
      "cell_type": "code",
      "source": [
        "%%bash\n",
        "cat exampleTwo.txt example.txt"
      ],
      "metadata": {
        "colab": {
          "base_uri": "https://localhost:8080/"
        },
        "id": "y0xTX3hkprOW",
        "outputId": "8a9d24ce-ad2e-402d-f7d4-bc6ba2f0afde"
      },
      "execution_count": 10,
      "outputs": [
        {
          "output_type": "stream",
          "name": "stdout",
          "text": [
            "this is the first line of a second example file\n",
            "this file can be concatenated to the first example file\n",
            "after concatenation, this line will be the last line\n",
            "This is an example text file.\n",
            "It is used to teach Unix commands.\n",
            "For example, the wc, head, and grep commands. \n",
            "This file has a total of 4 lines.\n"
          ]
        }
      ]
    },
    {
      "cell_type": "code",
      "source": [
        "%%bash\n",
        "cat example.txt exampleTwo.txt > combinedExample.txt\n",
        "ls"
      ],
      "metadata": {
        "colab": {
          "base_uri": "https://localhost:8080/"
        },
        "id": "NKUM2w5Ppwd4",
        "outputId": "11ad94d5-3375-441d-d0d6-f4a90fb44733"
      },
      "execution_count": 11,
      "outputs": [
        {
          "output_type": "stream",
          "name": "stdout",
          "text": [
            "combinedExample.txt\n",
            "exampleTwo.txt\n",
            "example.txt\n",
            "sample_data\n"
          ]
        }
      ]
    },
    {
      "cell_type": "code",
      "source": [
        "%%bash\n",
        "cat combinedExample.txt"
      ],
      "metadata": {
        "colab": {
          "base_uri": "https://localhost:8080/"
        },
        "id": "KtNLrGCFp0tu",
        "outputId": "4870e856-573b-45e6-8e54-a4abd15ced87"
      },
      "execution_count": 12,
      "outputs": [
        {
          "output_type": "stream",
          "name": "stdout",
          "text": [
            "This is an example text file.\n",
            "It is used to teach Unix commands.\n",
            "For example, the wc, head, and grep commands. \n",
            "This file has a total of 4 lines.\n",
            "this is the first line of a second example file\n",
            "this file can be concatenated to the first example file\n",
            "after concatenation, this line will be the last line\n"
          ]
        }
      ]
    },
    {
      "cell_type": "code",
      "source": [
        "%%bash\n",
        "echo \"This string has 1 lines, 12 words, and 70 characters including spaces\" | wc"
      ],
      "metadata": {
        "colab": {
          "base_uri": "https://localhost:8080/"
        },
        "id": "p_K5ZvJUp571",
        "outputId": "cff9eab5-080a-4110-9f79-c1eb6554c5f0"
      },
      "execution_count": 13,
      "outputs": [
        {
          "output_type": "stream",
          "name": "stdout",
          "text": [
            "      1      12      70\n"
          ]
        }
      ]
    },
    {
      "cell_type": "code",
      "source": [
        "%%bash\n",
        "echo \"This string has 1 lines, 12 words, and 70 characters including spaces\" | wc -l"
      ],
      "metadata": {
        "colab": {
          "base_uri": "https://localhost:8080/"
        },
        "id": "nHN0RtBoqDj6",
        "outputId": "13958e14-c8d5-4fe1-8e98-bf6220e72f6b"
      },
      "execution_count": 14,
      "outputs": [
        {
          "output_type": "stream",
          "name": "stdout",
          "text": [
            "1\n"
          ]
        }
      ]
    },
    {
      "cell_type": "code",
      "source": [
        "%%bash\n",
        "echo \"This string has 1 lines, 12 words, and 70 characters including spaces\" | wc -m"
      ],
      "metadata": {
        "colab": {
          "base_uri": "https://localhost:8080/"
        },
        "id": "vn0OnWACqKXY",
        "outputId": "264ba5f6-0c64-4a38-fb32-5e81c27d80f5"
      },
      "execution_count": 18,
      "outputs": [
        {
          "output_type": "stream",
          "name": "stdout",
          "text": [
            "70\n"
          ]
        }
      ]
    },
    {
      "cell_type": "code",
      "source": [
        "%%bash\n",
        "cat combinedExample.txt"
      ],
      "metadata": {
        "colab": {
          "base_uri": "https://localhost:8080/"
        },
        "id": "e-FDQ5Beq29S",
        "outputId": "7dde4043-239e-4ea4-c250-f6d75b319785"
      },
      "execution_count": 19,
      "outputs": [
        {
          "output_type": "stream",
          "name": "stdout",
          "text": [
            "This is an example text file.\n",
            "It is used to teach Unix commands.\n",
            "For example, the wc, head, and grep commands. \n",
            "This file has a total of 4 lines.\n",
            "this is the first line of a second example file\n",
            "this file can be concatenated to the first example file\n",
            "after concatenation, this line will be the last line\n"
          ]
        }
      ]
    },
    {
      "cell_type": "code",
      "source": [
        "%%bash\n",
        "wc combinedExample.txt"
      ],
      "metadata": {
        "colab": {
          "base_uri": "https://localhost:8080/"
        },
        "id": "w-sCFI9tq_lE",
        "outputId": "ffbe8c58-779b-4240-8a80-956ffb6f4e8f"
      },
      "execution_count": 20,
      "outputs": [
        {
          "output_type": "stream",
          "name": "stdout",
          "text": [
            "  7  58 303 combinedExample.txt\n"
          ]
        }
      ]
    },
    {
      "cell_type": "code",
      "source": [
        "%%bash\n",
        "cat combinedExample.txt"
      ],
      "metadata": {
        "colab": {
          "base_uri": "https://localhost:8080/"
        },
        "id": "jvcCRmXQrR0f",
        "outputId": "fa7d9518-79ab-4e51-8642-45059bfad6a3"
      },
      "execution_count": 21,
      "outputs": [
        {
          "output_type": "stream",
          "name": "stdout",
          "text": [
            "This is an example text file.\n",
            "It is used to teach Unix commands.\n",
            "For example, the wc, head, and grep commands. \n",
            "This file has a total of 4 lines.\n",
            "this is the first line of a second example file\n",
            "this file can be concatenated to the first example file\n",
            "after concatenation, this line will be the last line\n"
          ]
        }
      ]
    },
    {
      "cell_type": "code",
      "source": [
        "%%bash\n",
        "grep \"this\" combinedExample.txt"
      ],
      "metadata": {
        "colab": {
          "base_uri": "https://localhost:8080/"
        },
        "id": "Pd-AWVsUrYP-",
        "outputId": "6163e63f-fc58-4664-d1b5-137dec1e5efd"
      },
      "execution_count": 22,
      "outputs": [
        {
          "output_type": "stream",
          "name": "stdout",
          "text": [
            "this is the first line of a second example file\n",
            "this file can be concatenated to the first example file\n",
            "after concatenation, this line will be the last line\n"
          ]
        }
      ]
    },
    {
      "cell_type": "code",
      "source": [
        "%%bash\n",
        "grep \"This\" combinedExample.txt"
      ],
      "metadata": {
        "colab": {
          "base_uri": "https://localhost:8080/"
        },
        "id": "Ev4BAAskrefv",
        "outputId": "3403000d-627c-4f53-9ac8-3c436dc3f7f3"
      },
      "execution_count": 23,
      "outputs": [
        {
          "output_type": "stream",
          "name": "stdout",
          "text": [
            "This is an example text file.\n",
            "This file has a total of 4 lines.\n"
          ]
        }
      ]
    },
    {
      "cell_type": "code",
      "source": [
        "%%bash\n",
        "grep -i \"this\" combinedExample.txt"
      ],
      "metadata": {
        "colab": {
          "base_uri": "https://localhost:8080/"
        },
        "id": "72K0ih0BrkHR",
        "outputId": "2cfa291e-f930-473c-8933-6f5f268f5988"
      },
      "execution_count": 24,
      "outputs": [
        {
          "output_type": "stream",
          "name": "stdout",
          "text": [
            "This is an example text file.\n",
            "This file has a total of 4 lines.\n",
            "this is the first line of a second example file\n",
            "this file can be concatenated to the first example file\n",
            "after concatenation, this line will be the last line\n"
          ]
        }
      ]
    },
    {
      "cell_type": "code",
      "source": [
        "%%bash\n",
        "grep \"^this\" combinedExample.txt"
      ],
      "metadata": {
        "colab": {
          "base_uri": "https://localhost:8080/"
        },
        "id": "KqKqff-xrpXf",
        "outputId": "e8084715-da4f-49fb-c0d0-af61a43bb25f"
      },
      "execution_count": 25,
      "outputs": [
        {
          "output_type": "stream",
          "name": "stdout",
          "text": [
            "this is the first line of a second example file\n",
            "this file can be concatenated to the first example file\n"
          ]
        }
      ]
    },
    {
      "cell_type": "code",
      "source": [
        "%%bash\n",
        "grep \"file$\" combinedExample.txt"
      ],
      "metadata": {
        "colab": {
          "base_uri": "https://localhost:8080/"
        },
        "id": "GcpI0nosrveE",
        "outputId": "c6416e6c-aff4-48c1-824c-dd5a17654a81"
      },
      "execution_count": 26,
      "outputs": [
        {
          "output_type": "stream",
          "name": "stdout",
          "text": [
            "this is the first line of a second example file\n",
            "this file can be concatenated to the first example file\n"
          ]
        }
      ]
    },
    {
      "cell_type": "code",
      "source": [
        "%%bash\n",
        "cat > myScript\n",
        "#!/bin/bash\n",
        "echo \"Hello World!\""
      ],
      "metadata": {
        "id": "aoPxu2PLr053"
      },
      "execution_count": 27,
      "outputs": []
    },
    {
      "cell_type": "code",
      "source": [
        "%%bash\n",
        "cat myScript"
      ],
      "metadata": {
        "colab": {
          "base_uri": "https://localhost:8080/"
        },
        "id": "ln0iefjdxaBC",
        "outputId": "21c1393d-f6af-4a4c-b090-7e96fd2d4fa9"
      },
      "execution_count": 28,
      "outputs": [
        {
          "output_type": "stream",
          "name": "stdout",
          "text": [
            "#!/bin/bash\n",
            "echo \"Hello World!\"\n"
          ]
        }
      ]
    },
    {
      "cell_type": "code",
      "source": [
        "%%bash\n",
        "ls -l"
      ],
      "metadata": {
        "colab": {
          "base_uri": "https://localhost:8080/"
        },
        "id": "SQyvbOLdxfMI",
        "outputId": "1c9e8aab-ce91-490e-e141-650f5c8a20fd"
      },
      "execution_count": 29,
      "outputs": [
        {
          "output_type": "stream",
          "name": "stdout",
          "text": [
            "total 20\n",
            "-rw-r--r-- 1 root root  303 Jun 26 08:26 combinedExample.txt\n",
            "-rw-r--r-- 1 root root  157 Jan 13  2022 exampleTwo.txt\n",
            "-rw-r--r-- 1 root root  146 Jan 13  2022 example.txt\n",
            "-rw-r--r-- 1 root root   32 Jun 26 08:35 myScript\n",
            "drwxr-xr-x 1 root root 4096 Jun 24 13:28 sample_data\n"
          ]
        }
      ]
    },
    {
      "cell_type": "code",
      "source": [
        "%%bash\n",
        "chmod u+x myScript"
      ],
      "metadata": {
        "id": "8Y0fOZ4sxjbf"
      },
      "execution_count": 30,
      "outputs": []
    },
    {
      "cell_type": "code",
      "source": [
        "%%bash\n",
        "ls -l"
      ],
      "metadata": {
        "colab": {
          "base_uri": "https://localhost:8080/"
        },
        "id": "6vO8mD-Cxq2E",
        "outputId": "9e12a5e9-a8d7-4160-f3c4-88b962013fae"
      },
      "execution_count": 31,
      "outputs": [
        {
          "output_type": "stream",
          "name": "stdout",
          "text": [
            "total 20\n",
            "-rw-r--r-- 1 root root  303 Jun 26 08:26 combinedExample.txt\n",
            "-rw-r--r-- 1 root root  157 Jan 13  2022 exampleTwo.txt\n",
            "-rw-r--r-- 1 root root  146 Jan 13  2022 example.txt\n",
            "-rwxr--r-- 1 root root   32 Jun 26 08:35 myScript\n",
            "drwxr-xr-x 1 root root 4096 Jun 24 13:28 sample_data\n"
          ]
        }
      ]
    },
    {
      "cell_type": "code",
      "source": [
        "%%bash\n",
        "./myScript"
      ],
      "metadata": {
        "colab": {
          "base_uri": "https://localhost:8080/"
        },
        "id": "yKPjusl5x34Q",
        "outputId": "4d352f3c-6ba3-40f6-8d59-0d034c277eaf"
      },
      "execution_count": 32,
      "outputs": [
        {
          "output_type": "stream",
          "name": "stdout",
          "text": [
            "Hello World!\n"
          ]
        }
      ]
    },
    {
      "cell_type": "code",
      "source": [
        "%%bash\n",
        "/content/myScript"
      ],
      "metadata": {
        "colab": {
          "base_uri": "https://localhost:8080/"
        },
        "id": "nyOZ_Fk5x8ZY",
        "outputId": "1a479b3d-a158-4e19-e41f-d099f56569fb"
      },
      "execution_count": 33,
      "outputs": [
        {
          "output_type": "stream",
          "name": "stdout",
          "text": [
            "Hello World!\n"
          ]
        }
      ]
    },
    {
      "cell_type": "code",
      "source": [
        "%%bash\n",
        "cat > apprendPractice.txt\n",
        "This file has 1 line."
      ],
      "metadata": {
        "id": "P6aRrnH2yAVT"
      },
      "execution_count": 34,
      "outputs": []
    },
    {
      "cell_type": "code",
      "source": [
        "%%bash\n",
        "cat >> apprendPractice.txt\n",
        "This file has 2 lines.v"
      ],
      "metadata": {
        "id": "MEkTkEYHyEWa"
      },
      "execution_count": 35,
      "outputs": []
    },
    {
      "cell_type": "code",
      "source": [
        "%%bash\n",
        "cat apprendPractice.txt"
      ],
      "metadata": {
        "colab": {
          "base_uri": "https://localhost:8080/"
        },
        "id": "EBAYHaJ9yGu7",
        "outputId": "958ca3db-5cf1-4d62-93b8-4fa1d3399874"
      },
      "execution_count": 36,
      "outputs": [
        {
          "output_type": "stream",
          "name": "stdout",
          "text": [
            "This file has 1 line.\n",
            "This file has 2 lines.v\n"
          ]
        }
      ]
    },
    {
      "cell_type": "code",
      "source": [
        "%%bash\n",
        "touch example.txt exampleTwo.txt exampleThree.txt"
      ],
      "metadata": {
        "id": "50SE9Hz6yNku"
      },
      "execution_count": 37,
      "outputs": []
    },
    {
      "cell_type": "code",
      "source": [
        "%%bash\n",
        "for file in *.txt; do\n",
        "    echo \"Text file found!\"\n",
        "    echo $file\n",
        "done"
      ],
      "metadata": {
        "colab": {
          "base_uri": "https://localhost:8080/"
        },
        "id": "m-XJlFgmyRP8",
        "outputId": "73604af8-f685-427b-c931-14b247ac4d17"
      },
      "execution_count": 38,
      "outputs": [
        {
          "output_type": "stream",
          "name": "stdout",
          "text": [
            "Text file found!\n",
            "apprendPractice.txt\n",
            "Text file found!\n",
            "combinedExample.txt\n",
            "Text file found!\n",
            "exampleThree.txt\n",
            "Text file found!\n",
            "exampleTwo.txt\n",
            "Text file found!\n",
            "example.txt\n"
          ]
        }
      ]
    },
    {
      "cell_type": "code",
      "source": [
        "%%bash\n",
        "wget -nv -O IGHJ_Mouse.fa 'https://drive.google.com/uc?export=download&id=19OjK8m9M9WwUZpB-5FLSu7RWeQhRbYKO'\n",
        "wget -nv -O IGHJ_Human.fa 'https://drive.google.com/uc?export=download&id=1kUzbiYfBOYQDXUaUzJ4NEGJN9ysPulBz'\n",
        "wget -nv -O IGHJ_Zebrafish.fa 'https://drive.google.com/uc?export=download&id=1m0VB08CBfl6GZ9rfCtmDyh6PI7elHcak'"
      ],
      "metadata": {
        "colab": {
          "base_uri": "https://localhost:8080/"
        },
        "id": "IJzTHgVpyoL3",
        "outputId": "2f635f33-22bf-4e91-f4d0-4eac57355e7d"
      },
      "execution_count": 39,
      "outputs": [
        {
          "output_type": "stream",
          "name": "stderr",
          "text": [
            "2024-06-26 09:05:06 URL:https://drive.usercontent.google.com/download?id=19OjK8m9M9WwUZpB-5FLSu7RWeQhRbYKO&export=download [1178/1178] -> \"IGHJ_Mouse.fa\" [1]\n",
            "2024-06-26 09:05:06 URL:https://drive.usercontent.google.com/download?id=1kUzbiYfBOYQDXUaUzJ4NEGJN9ysPulBz&export=download [2639/2639] -> \"IGHJ_Human.fa\" [1]\n",
            "2024-06-26 09:05:06 URL:https://drive.usercontent.google.com/download?id=1m0VB08CBfl6GZ9rfCtmDyh6PI7elHcak&export=download [1034/1034] -> \"IGHJ_Zebrafish.fa\" [1]\n"
          ]
        }
      ]
    },
    {
      "cell_type": "markdown",
      "source": [
        "**Lab Assignment 2: Parsing FASTA files with UNIX scripts**"
      ],
      "metadata": {
        "id": "tqUSGyV162P-"
      }
    },
    {
      "cell_type": "code",
      "source": [
        "%%bash\n",
        "\n",
        "\n",
        "> headers.txt\n",
        "\n",
        "\n",
        "for file in *.fa; do\n",
        "\n",
        "  grep \"^>\" \"$file\" >> headers.txt\n",
        "done > headerExtractor"
      ],
      "metadata": {
        "id": "FAqZNmw7yzeG"
      },
      "execution_count": 40,
      "outputs": []
    },
    {
      "cell_type": "code",
      "source": [
        "%%bash\n",
        "\n",
        "> lengths.txt\n",
        "\n",
        "\n",
        "for file in *.fa; do\n",
        "\n",
        "  echo \"Processing $file\" >> lengths.txt\n",
        "\n",
        "\n",
        "  grep \"^>\" \"$file\" >> lengths.txt\n",
        "\n",
        "\n",
        "  total_length=$(grep -v \"^>\" \"$file\" | tr -d '\\n' | wc -c)\n",
        "  echo \"$total_length\" >> lengths.txt\n",
        "\n",
        "\n",
        "  echo \"\" >> lengths.txt\n",
        "done > seqMeasurer"
      ],
      "metadata": {
        "id": "JBcZHSG_y6dJ"
      },
      "execution_count": 41,
      "outputs": []
    },
    {
      "cell_type": "code",
      "source": [
        "%%bash\n",
        "chmod +x headerExtractor\n",
        "chmod +x seqMeasurer"
      ],
      "metadata": {
        "id": "il2vBCGLy-Pp"
      },
      "execution_count": 42,
      "outputs": []
    },
    {
      "cell_type": "code",
      "source": [
        "%%bash\n",
        "./headerExtractor\n",
        "./seqMeasurer"
      ],
      "metadata": {
        "id": "W0Kx5OiQzFhm"
      },
      "execution_count": 44,
      "outputs": []
    }
  ]
}