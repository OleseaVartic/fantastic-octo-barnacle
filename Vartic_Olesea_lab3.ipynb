{
  "nbformat": 4,
  "nbformat_minor": 0,
  "metadata": {
    "colab": {
      "provenance": []
    },
    "kernelspec": {
      "name": "python3",
      "display_name": "Python 3"
    },
    "language_info": {
      "name": "python"
    }
  },
  "cells": [
    {
      "cell_type": "markdown",
      "source": [
        "**Lab 3 Assignment: Developing Python literacy in Google Colaboratory**"
      ],
      "metadata": {
        "id": "uyZtgO_mJwkP"
      }
    },
    {
      "cell_type": "markdown",
      "source": [
        "Select the O antigen from this list."
      ],
      "metadata": {
        "id": "WqSFA70YKJog"
      }
    },
    {
      "cell_type": "code",
      "source": [
        "bloodAntigens = ['A', 'B', 'O']\n",
        "print(bloodAntigens[2])\n"
      ],
      "metadata": {
        "colab": {
          "base_uri": "https://localhost:8080/"
        },
        "id": "14APRDouKPXc",
        "outputId": "61b81716-2ce8-494b-dfbb-198951fba684"
      },
      "execution_count": 2,
      "outputs": [
        {
          "output_type": "stream",
          "name": "stdout",
          "text": [
            "O\n"
          ]
        }
      ]
    },
    {
      "cell_type": "markdown",
      "source": [
        "Lookup the O-compatible plasma types from this dictionary."
      ],
      "metadata": {
        "id": "zEwyI7tlLd1A"
      }
    },
    {
      "cell_type": "code",
      "source": [
        "bloodTypeCompatibilities = {\n",
        "    'A': ['A', 'AB'],\n",
        "    'B': ['B', 'AB'],\n",
        "    'AB': ['AB'],\n",
        "    'O': ['A', 'B', 'AB', 'O']\n",
        "}\n",
        "print(bloodTypeCompatibilities['O'])\n"
      ],
      "metadata": {
        "colab": {
          "base_uri": "https://localhost:8080/"
        },
        "id": "m_h9AANOLfQo",
        "outputId": "68b0d1b2-a3b9-4262-f8ea-94a8944bafbe"
      },
      "execution_count": 3,
      "outputs": [
        {
          "output_type": "stream",
          "name": "stdout",
          "text": [
            "['A', 'B', 'AB', 'O']\n"
          ]
        }
      ]
    },
    {
      "cell_type": "markdown",
      "source": [
        "Access the beginning of the sample name column in the following DataFrame."
      ],
      "metadata": {
        "id": "Hed4ua0WLy9i"
      }
    },
    {
      "cell_type": "code",
      "source": [
        "import pandas as pd\n",
        "\n",
        "\n",
        "columns = {'sampleName': ['cell1', 'cell2', 'cell3', 'cell4'], 'Treatment': ['Case', 'Control', 'Control', 'Case']}\n",
        "df = pd.DataFrame(columns)\n",
        "\n",
        "\n",
        "print(df['sampleName'].head())\n"
      ],
      "metadata": {
        "colab": {
          "base_uri": "https://localhost:8080/"
        },
        "id": "rnLM1aqfL0yX",
        "outputId": "0aa34969-5fea-459d-f95d-a1077f36e714"
      },
      "execution_count": 4,
      "outputs": [
        {
          "output_type": "stream",
          "name": "stdout",
          "text": [
            "0    cell1\n",
            "1    cell2\n",
            "2    cell3\n",
            "3    cell4\n",
            "Name: sampleName, dtype: object\n"
          ]
        }
      ]
    },
    {
      "cell_type": "markdown",
      "source": [
        "Save the Superfamily column from the DataFrame downloaded below."
      ],
      "metadata": {
        "id": "4J8KTnvVMN1j"
      }
    },
    {
      "cell_type": "code",
      "source": [
        "import pandas as pd\n",
        "\n",
        "# Downloading the DataFrame\n",
        "antBrainCellsDF = pd.read_csv(\"https://zenodo.org/record/4579911/files/00_RKG_MS_WG_RawCCData.csv?download=1\")\n",
        "\n",
        "# Extracting the Superfamily column\n",
        "superfamilyColumn = antBrainCellsDF['Superfamily']\n",
        "\n",
        "# Saving the Superfamily column to a CSV file\n",
        "superfamilyColumn.to_csv(\"superfamily_column.csv\", index=False)\n"
      ],
      "metadata": {
        "id": "-XCSBD8PMZKK"
      },
      "execution_count": 7,
      "outputs": []
    }
  ]
}