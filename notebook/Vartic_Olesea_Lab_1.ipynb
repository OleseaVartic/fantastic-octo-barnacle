{
  "nbformat": 4,
  "nbformat_minor": 0,
  "metadata": {
    "colab": {
      "provenance": []
    },
    "kernelspec": {
      "name": "python3",
      "display_name": "Python 3"
    },
    "language_info": {
      "name": "python"
    }
  },
  "cells": [
    {
      "cell_type": "code",
      "execution_count": 1,
      "metadata": {
        "colab": {
          "base_uri": "https://localhost:8080/"
        },
        "id": "oI7FyAuOI6hW",
        "outputId": "490a095d-9726-4888-e1fa-1e7c315cc631"
      },
      "outputs": [
        {
          "output_type": "stream",
          "name": "stderr",
          "text": [
            "UsageError: %%bash is a cell magic, but the cell body is empty.\n"
          ]
        }
      ],
      "source": [
        "%%bash"
      ]
    },
    {
      "cell_type": "code",
      "source": [
        "%%bash\n",
        "pwd"
      ],
      "metadata": {
        "colab": {
          "base_uri": "https://localhost:8080/"
        },
        "id": "IvNReITRJXsR",
        "outputId": "cad454ce-98ba-4e81-ca44-190f8dac4290"
      },
      "execution_count": 2,
      "outputs": [
        {
          "output_type": "stream",
          "name": "stdout",
          "text": [
            "/content\n"
          ]
        }
      ]
    },
    {
      "cell_type": "code",
      "source": [
        "%%bash\n",
        "ls"
      ],
      "metadata": {
        "colab": {
          "base_uri": "https://localhost:8080/"
        },
        "id": "psgx6_YGJcp0",
        "outputId": "60b61f24-065b-424c-8cae-e3f756ee626b"
      },
      "execution_count": 3,
      "outputs": [
        {
          "output_type": "stream",
          "name": "stdout",
          "text": [
            "sample_data\n"
          ]
        }
      ]
    },
    {
      "cell_type": "code",
      "source": [
        "%%bash\n",
        "ls sample_data"
      ],
      "metadata": {
        "colab": {
          "base_uri": "https://localhost:8080/"
        },
        "id": "nrHvSyMNJmox",
        "outputId": "6768248b-1308-4cba-92dd-f73a7031b893"
      },
      "execution_count": 4,
      "outputs": [
        {
          "output_type": "stream",
          "name": "stdout",
          "text": [
            "anscombe.json\n",
            "california_housing_test.csv\n",
            "california_housing_train.csv\n",
            "mnist_test.csv\n",
            "mnist_train_small.csv\n",
            "README.md\n"
          ]
        }
      ]
    },
    {
      "cell_type": "code",
      "source": [
        "%%bash\n",
        "cd sample_data\n",
        "pwd"
      ],
      "metadata": {
        "colab": {
          "base_uri": "https://localhost:8080/"
        },
        "id": "H84Vdf_NKBJG",
        "outputId": "35308482-c48b-42f0-b8d0-a332de1553d0"
      },
      "execution_count": 5,
      "outputs": [
        {
          "output_type": "stream",
          "name": "stdout",
          "text": [
            "/content/sample_data\n"
          ]
        }
      ]
    },
    {
      "cell_type": "code",
      "source": [
        "%%bash\n",
        "touch emptyFile.txt\n",
        "ls"
      ],
      "metadata": {
        "colab": {
          "base_uri": "https://localhost:8080/"
        },
        "id": "usdqHW9RKHIL",
        "outputId": "adddb9ea-def6-476f-c34e-461424cdde8e"
      },
      "execution_count": 6,
      "outputs": [
        {
          "output_type": "stream",
          "name": "stdout",
          "text": [
            "emptyFile.txt\n",
            "sample_data\n"
          ]
        }
      ]
    },
    {
      "cell_type": "code",
      "source": [
        "%%bash\n",
        "ls"
      ],
      "metadata": {
        "colab": {
          "base_uri": "https://localhost:8080/"
        },
        "id": "vY6ukIaVKW8j",
        "outputId": "0ea2d127-cd61-4ca1-831f-34ec870f6de1"
      },
      "execution_count": 7,
      "outputs": [
        {
          "output_type": "stream",
          "name": "stdout",
          "text": [
            "emptyFile.txt\n",
            "sample_data\n"
          ]
        }
      ]
    },
    {
      "cell_type": "code",
      "source": [
        "%%bash\n",
        "mv emptyFile.txt empty.txt\n",
        "ls"
      ],
      "metadata": {
        "colab": {
          "base_uri": "https://localhost:8080/"
        },
        "id": "1q2FgyTXKiwv",
        "outputId": "5619808b-22f8-40e6-e60f-a8c29fbef7b1"
      },
      "execution_count": 8,
      "outputs": [
        {
          "output_type": "stream",
          "name": "stdout",
          "text": [
            "empty.txt\n",
            "sample_data\n"
          ]
        }
      ]
    },
    {
      "cell_type": "code",
      "source": [
        "%%bash\n",
        "cp empty.txt empty2.txt\n",
        "ls"
      ],
      "metadata": {
        "colab": {
          "base_uri": "https://localhost:8080/"
        },
        "id": "TwYGxGxOKn-K",
        "outputId": "ce727d06-a0c3-4255-a9d5-b65d9f07d71a"
      },
      "execution_count": 9,
      "outputs": [
        {
          "output_type": "stream",
          "name": "stdout",
          "text": [
            "empty2.txt\n",
            "empty.txt\n",
            "sample_data\n"
          ]
        }
      ]
    },
    {
      "cell_type": "code",
      "source": [
        "%%bash\n",
        "rm empty.txt empty2.txt\n",
        "ls"
      ],
      "metadata": {
        "colab": {
          "base_uri": "https://localhost:8080/"
        },
        "id": "cEwannf1KsqM",
        "outputId": "fe9dbb03-b969-4cfb-82c3-8e7977555bbf"
      },
      "execution_count": 10,
      "outputs": [
        {
          "output_type": "stream",
          "name": "stdout",
          "text": [
            "sample_data\n"
          ]
        }
      ]
    },
    {
      "cell_type": "code",
      "source": [
        "%%bash\n",
        "mkdir newDirectory\n",
        "ls"
      ],
      "metadata": {
        "colab": {
          "base_uri": "https://localhost:8080/"
        },
        "id": "BDRduySwKwi0",
        "outputId": "03965753-cbff-43e7-c3c9-52d2fcde7043"
      },
      "execution_count": 11,
      "outputs": [
        {
          "output_type": "stream",
          "name": "stdout",
          "text": [
            "newDirectory\n",
            "sample_data\n"
          ]
        }
      ]
    },
    {
      "cell_type": "code",
      "source": [
        "%%bash\n",
        "mv newDirectory projectDirectory\n",
        "ls"
      ],
      "metadata": {
        "colab": {
          "base_uri": "https://localhost:8080/"
        },
        "id": "NYXtoAUeK2-2",
        "outputId": "25eefd5b-e587-46a1-822c-87d03a22f4f9"
      },
      "execution_count": 12,
      "outputs": [
        {
          "output_type": "stream",
          "name": "stdout",
          "text": [
            "projectDirectory\n",
            "sample_data\n"
          ]
        }
      ]
    },
    {
      "cell_type": "code",
      "source": [
        "%%bash\n",
        "cp projectDirectory projectDirectoryTwo\n",
        "ls"
      ],
      "metadata": {
        "colab": {
          "base_uri": "https://localhost:8080/"
        },
        "id": "GqX7O8_BK7Qk",
        "outputId": "72a792da-c96e-440a-c950-e6b5d7931709"
      },
      "execution_count": 13,
      "outputs": [
        {
          "output_type": "stream",
          "name": "stdout",
          "text": [
            "projectDirectory\n",
            "sample_data\n"
          ]
        },
        {
          "output_type": "stream",
          "name": "stderr",
          "text": [
            "cp: -r not specified; omitting directory 'projectDirectory'\n"
          ]
        }
      ]
    },
    {
      "cell_type": "code",
      "source": [
        "%%bash\n",
        "cp -r projectDirectory projectDirectoryTwo\n",
        "ls"
      ],
      "metadata": {
        "colab": {
          "base_uri": "https://localhost:8080/"
        },
        "id": "zk-no04QLAii",
        "outputId": "ec47ac8e-9755-42dc-f2a4-0a49e1a33dc9"
      },
      "execution_count": 14,
      "outputs": [
        {
          "output_type": "stream",
          "name": "stdout",
          "text": [
            "projectDirectory\n",
            "projectDirectoryTwo\n",
            "sample_data\n"
          ]
        }
      ]
    },
    {
      "cell_type": "code",
      "source": [
        "%%bash\n",
        "cp --recursive projectDirectoryTwo projectDirectoryThree\n",
        "ls"
      ],
      "metadata": {
        "colab": {
          "base_uri": "https://localhost:8080/"
        },
        "id": "G2uUi472LG97",
        "outputId": "be8e3d4c-df60-462e-ce99-f6fb188823e1"
      },
      "execution_count": 15,
      "outputs": [
        {
          "output_type": "stream",
          "name": "stdout",
          "text": [
            "projectDirectory\n",
            "projectDirectoryThree\n",
            "projectDirectoryTwo\n",
            "sample_data\n"
          ]
        }
      ]
    },
    {
      "cell_type": "code",
      "source": [
        "%%bash\n",
        "rm -r projectDirectory projectDirectoryTwo projectDirectoryThree\n",
        "ls"
      ],
      "metadata": {
        "colab": {
          "base_uri": "https://localhost:8080/"
        },
        "id": "DA-AeA_-LLMi",
        "outputId": "b4679b1b-4ee6-484d-ad1b-eda762a90ab8"
      },
      "execution_count": 16,
      "outputs": [
        {
          "output_type": "stream",
          "name": "stdout",
          "text": [
            "sample_data\n"
          ]
        }
      ]
    },
    {
      "cell_type": "markdown",
      "source": [
        "**Lab Assignment 1: Creating organized file structures for your projects**"
      ],
      "metadata": {
        "id": "0n9jXsZK6e7y"
      }
    },
    {
      "cell_type": "markdown",
      "source": [
        "![descărcare.png](data:image/png;base64,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)"
      ],
      "metadata": {
        "id": "JTE368qz-v1p"
      }
    },
    {
      "cell_type": "code",
      "source": [
        "%%bash\n",
        "mkdir -p /content/Repository/summarydata\n",
        "mkdir -p /content/Repository/notebook\n",
        "mkdir -p /content/Repository/figure\n",
        "mkdir -p /content/Repository/multipanel\n",
        "\n",
        "touch /content/Repository/README\n",
        "touch /content/Repository/summarydata/README\n",
        "touch /content/Repository/notebook/README\n",
        "touch /content/Repository/figure/README\n",
        "touch /content/Repository/multipanel/README\n",
        "\n",
        "touch /content/Repository/summarydata/Figure_1a_data.csv\n",
        "touch /content/Repository/summarydata/Figure_1b_data.csv\n",
        "touch /content/Repository/summarydata/Figure_2a_data.csv\n",
        "touch /content/Repository/summarydata/Figure_2b_data.csv\n",
        "touch /content/Repository/summarydata/Figure_2c_data.csv\n",
        "\n",
        "touch /content/Repository/notebook/Figure1.ipynb\n",
        "touch /content/Repository/notebook/Figure2.ipynb\n",
        "\n",
        "touch /content/Repository/figure/Figure1a.pdf\n",
        "touch /content/Repository/figure/Figure1b.pdf\n",
        "touch /content/Repository/figure/Figure2a.pdf\n",
        "touch /content/Repository/figure/Figure2b.pdf\n",
        "touch /content/Repository/figure/Figure2c.pdf\n",
        "\n",
        "touch /content/Repository/multipanel/Figure1.ai\n",
        "touch /content/Repository/multipanel/Figure2.ai\n",
        "\n",
        "echo \"Repository structure:\"\n",
        "ls -R /content/Repository"
      ],
      "metadata": {
        "colab": {
          "base_uri": "https://localhost:8080/"
        },
        "id": "UOHGy_r56DhR",
        "outputId": "f63855f1-65dd-456e-a916-a4b5dfc7fae5"
      },
      "execution_count": 1,
      "outputs": [
        {
          "output_type": "stream",
          "name": "stdout",
          "text": [
            "Repository structure:\n",
            "/content/Repository:\n",
            "figure\n",
            "multipanel\n",
            "notebook\n",
            "README\n",
            "summarydata\n",
            "\n",
            "/content/Repository/figure:\n",
            "Figure1a.pdf\n",
            "Figure1b.pdf\n",
            "Figure2a.pdf\n",
            "Figure2b.pdf\n",
            "Figure2c.pdf\n",
            "README\n",
            "\n",
            "/content/Repository/multipanel:\n",
            "Figure1.ai\n",
            "Figure2.ai\n",
            "README\n",
            "\n",
            "/content/Repository/notebook:\n",
            "Figure1.ipynb\n",
            "Figure2.ipynb\n",
            "README\n",
            "\n",
            "/content/Repository/summarydata:\n",
            "Figure_1a_data.csv\n",
            "Figure_1b_data.csv\n",
            "Figure_2a_data.csv\n",
            "Figure_2b_data.csv\n",
            "Figure_2c_data.csv\n",
            "README\n"
          ]
        }
      ]
    }
  ]
}